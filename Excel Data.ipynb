{
 "cells": [
  {
   "cell_type": "markdown",
   "metadata": {},
   "source": [
    "[Esteban Munoz](emunozh@gmail.com)\n",
    "\n",
    "Fri Jul 24"
   ]
  },
  {
   "cell_type": "code",
   "execution_count": 1,
   "metadata": {
    "collapsed": true
   },
   "outputs": [],
   "source": [
    "import pandas as pd"
   ]
  },
  {
   "cell_type": "code",
   "execution_count": 2,
   "metadata": {
    "collapsed": true
   },
   "outputs": [],
   "source": [
    "xls = pd.ExcelFile('raw/Zensus-Standardauswertung Hamburger Statistische Gebiete nach SAFE_Seller.xlsx')"
   ]
  },
  {
   "cell_type": "code",
   "execution_count": 3,
   "metadata": {
    "collapsed": true
   },
   "outputs": [],
   "source": [
    "def formatIndex(Int):\n",
    "    Str = str(int(Int))\n",
    "    n = len(Str)\n",
    "    if n < 6:\n",
    "        return \"0\"*(6-n) + Str\n",
    "    else:\n",
    "        return Str"
   ]
  },
  {
   "cell_type": "code",
   "execution_count": 4,
   "metadata": {
    "collapsed": true
   },
   "outputs": [],
   "source": [
    "def deleteExtraCharacters(Val):\n",
    "    Val = str(Val)\n",
    "    Val = Val.replace(\"(\",\"\")\n",
    "    Val = Val.replace(\")\",\"\")\n",
    "    return float(Val)"
   ]
  },
  {
   "cell_type": "code",
   "execution_count": 5,
   "metadata": {
    "collapsed": false
   },
   "outputs": [],
   "source": [
    "def makeNew(df, idx='InsgesaRAUM_newmt', col='Stat. Geb.', cut=11, col_id=9):\n",
    "    columns_groups = df.index[0:cut].tolist()\n",
    "    #columns_groups.insert(0, 'Insgesamt')\n",
    "    df_new = pd.DataFrame(\n",
    "        index = [formatIndex(Val) for Val in df.loc[idx,col].tolist()],\n",
    "        columns = columns_groups)\n",
    "    for cgroup in columns_groups:\n",
    "        df_new.loc[:,cgroup] = [deleteExtraCharacters(a) for a in df.loc[cgroup, col_id].tolist()]\n",
    "    df_new.ix[0,0] = col_id\n",
    "    return df_new"
   ]
  },
  {
   "cell_type": "markdown",
   "metadata": {},
   "source": [
    "# (1) BArt"
   ]
  },
  {
   "cell_type": "code",
   "execution_count": 6,
   "metadata": {
    "collapsed": false
   },
   "outputs": [],
   "source": [
    "Bart = xls.parse(\n",
    "    0, na_values=['-','.'],\n",
    "    skiprows=[0,1,2,3,4,5,7,8],\n",
    "    #converters={4:deleteExtraCharacters},\n",
    "    skip_footer=6,\n",
    "    parse_cols=[0,2,3,4,5,6,7])"
   ]
  },
  {
   "cell_type": "code",
   "execution_count": 7,
   "metadata": {
    "collapsed": false
   },
   "outputs": [],
   "source": [
    "# for some reason pandas is not getting this data type right\n",
    "Bart.Wohnheime = Bart.Wohnheime.astype(float)"
   ]
  },
  {
   "cell_type": "code",
   "execution_count": 8,
   "metadata": {
    "collapsed": false
   },
   "outputs": [],
   "source": [
    "# format index\n",
    "Bart[\"Unnamed: 0\"] = Bart[\"Unnamed: 0\"].astype(float)\n",
    "Bart[\"Unnamed: 0\"] = [formatIndex(Val) for Val in Bart[\"Unnamed: 0\"].tolist()]\n",
    "new_columns = Bart.columns.values; new_columns[0] = 'Stat. Geb.'; Bart.columns = new_columns\n",
    "Bart = Bart.set_index(\"Stat. Geb.\")"
   ]
  },
  {
   "cell_type": "code",
   "execution_count": 9,
   "metadata": {
    "collapsed": false
   },
   "outputs": [
    {
     "data": {
      "text/plain": [
       "Insgesamt                        float64\n",
       "Wohngebäude                      float64\n",
       "Wohngebäude (ohne Wohnheime)     float64\n",
       "Wohnheime                        float64\n",
       "Sonstige Gebäude mit Wohnraum    float64\n",
       "dtype: object"
      ]
     },
     "execution_count": 9,
     "metadata": {},
     "output_type": "execute_result"
    }
   ],
   "source": [
    "Bart.dtypes"
   ]
  },
  {
   "cell_type": "code",
   "execution_count": 10,
   "metadata": {
    "collapsed": false
   },
   "outputs": [
    {
     "data": {
      "text/html": [
       "<div>\n",
       "<table border=\"1\" class=\"dataframe\">\n",
       "  <thead>\n",
       "    <tr style=\"text-align: right;\">\n",
       "      <th></th>\n",
       "      <th>Insgesamt</th>\n",
       "      <th>Wohngebäude</th>\n",
       "      <th>Wohngebäude (ohne Wohnheime)</th>\n",
       "      <th>Wohnheime</th>\n",
       "      <th>Sonstige Gebäude mit Wohnraum</th>\n",
       "    </tr>\n",
       "    <tr>\n",
       "      <th>Stat. Geb.</th>\n",
       "      <th></th>\n",
       "      <th></th>\n",
       "      <th></th>\n",
       "      <th></th>\n",
       "      <th></th>\n",
       "    </tr>\n",
       "  </thead>\n",
       "  <tbody>\n",
       "    <tr>\n",
       "      <th>001002</th>\n",
       "      <td>9</td>\n",
       "      <td>NaN</td>\n",
       "      <td>NaN</td>\n",
       "      <td>NaN</td>\n",
       "      <td>8</td>\n",
       "    </tr>\n",
       "    <tr>\n",
       "      <th>001003</th>\n",
       "      <td>6</td>\n",
       "      <td>NaN</td>\n",
       "      <td>NaN</td>\n",
       "      <td>NaN</td>\n",
       "      <td>5</td>\n",
       "    </tr>\n",
       "    <tr>\n",
       "      <th>001004</th>\n",
       "      <td>7</td>\n",
       "      <td>3</td>\n",
       "      <td>3</td>\n",
       "      <td>NaN</td>\n",
       "      <td>5</td>\n",
       "    </tr>\n",
       "    <tr>\n",
       "      <th>001005</th>\n",
       "      <td>6</td>\n",
       "      <td>3</td>\n",
       "      <td>3</td>\n",
       "      <td>NaN</td>\n",
       "      <td>4</td>\n",
       "    </tr>\n",
       "    <tr>\n",
       "      <th>001006</th>\n",
       "      <td>15</td>\n",
       "      <td>3</td>\n",
       "      <td>3</td>\n",
       "      <td>NaN</td>\n",
       "      <td>13</td>\n",
       "    </tr>\n",
       "  </tbody>\n",
       "</table>\n",
       "</div>"
      ],
      "text/plain": [
       "            Insgesamt  Wohngebäude  Wohngebäude (ohne Wohnheime)  Wohnheime  \\\n",
       "Stat. Geb.                                                                    \n",
       "001002              9          NaN                           NaN        NaN   \n",
       "001003              6          NaN                           NaN        NaN   \n",
       "001004              7            3                             3        NaN   \n",
       "001005              6            3                             3        NaN   \n",
       "001006             15            3                             3        NaN   \n",
       "\n",
       "            Sonstige Gebäude mit Wohnraum  \n",
       "Stat. Geb.                                 \n",
       "001002                                  8  \n",
       "001003                                  5  \n",
       "001004                                  5  \n",
       "001005                                  4  \n",
       "001006                                 13  "
      ]
     },
     "execution_count": 10,
     "metadata": {},
     "output_type": "execute_result"
    }
   ],
   "source": [
    "Bart.head() "
   ]
  },
  {
   "cell_type": "code",
   "execution_count": 11,
   "metadata": {
    "collapsed": false
   },
   "outputs": [
    {
     "data": {
      "text/html": [
       "<div>\n",
       "<table border=\"1\" class=\"dataframe\">\n",
       "  <thead>\n",
       "    <tr style=\"text-align: right;\">\n",
       "      <th></th>\n",
       "      <th>Insgesamt</th>\n",
       "      <th>Wohngebäude</th>\n",
       "      <th>Wohngebäude (ohne Wohnheime)</th>\n",
       "      <th>Wohnheime</th>\n",
       "      <th>Sonstige Gebäude mit Wohnraum</th>\n",
       "    </tr>\n",
       "    <tr>\n",
       "      <th>Stat. Geb.</th>\n",
       "      <th></th>\n",
       "      <th></th>\n",
       "      <th></th>\n",
       "      <th></th>\n",
       "      <th></th>\n",
       "    </tr>\n",
       "  </thead>\n",
       "  <tbody>\n",
       "    <tr>\n",
       "      <th>107011</th>\n",
       "      <td>300</td>\n",
       "      <td>299</td>\n",
       "      <td>299</td>\n",
       "      <td>NaN</td>\n",
       "      <td>NaN</td>\n",
       "    </tr>\n",
       "    <tr>\n",
       "      <th>107012</th>\n",
       "      <td>148</td>\n",
       "      <td>146</td>\n",
       "      <td>146</td>\n",
       "      <td>NaN</td>\n",
       "      <td>3</td>\n",
       "    </tr>\n",
       "    <tr>\n",
       "      <th>107013</th>\n",
       "      <td>215</td>\n",
       "      <td>215</td>\n",
       "      <td>215</td>\n",
       "      <td>NaN</td>\n",
       "      <td>NaN</td>\n",
       "    </tr>\n",
       "    <tr>\n",
       "      <th>107014</th>\n",
       "      <td>413</td>\n",
       "      <td>412</td>\n",
       "      <td>412</td>\n",
       "      <td>NaN</td>\n",
       "      <td>NaN</td>\n",
       "    </tr>\n",
       "    <tr>\n",
       "      <th>107015</th>\n",
       "      <td>517</td>\n",
       "      <td>517</td>\n",
       "      <td>517</td>\n",
       "      <td>NaN</td>\n",
       "      <td>NaN</td>\n",
       "    </tr>\n",
       "  </tbody>\n",
       "</table>\n",
       "</div>"
      ],
      "text/plain": [
       "            Insgesamt  Wohngebäude  Wohngebäude (ohne Wohnheime)  Wohnheime  \\\n",
       "Stat. Geb.                                                                    \n",
       "107011            300          299                           299        NaN   \n",
       "107012            148          146                           146        NaN   \n",
       "107013            215          215                           215        NaN   \n",
       "107014            413          412                           412        NaN   \n",
       "107015            517          517                           517        NaN   \n",
       "\n",
       "            Sonstige Gebäude mit Wohnraum  \n",
       "Stat. Geb.                                 \n",
       "107011                                NaN  \n",
       "107012                                  3  \n",
       "107013                                NaN  \n",
       "107014                                NaN  \n",
       "107015                                NaN  "
      ]
     },
     "execution_count": 11,
     "metadata": {},
     "output_type": "execute_result"
    }
   ],
   "source": [
    "Bart.tail()"
   ]
  },
  {
   "cell_type": "code",
   "execution_count": 12,
   "metadata": {
    "collapsed": true
   },
   "outputs": [],
   "source": [
    "Bart.to_csv(\"BART.csv\")"
   ]
  },
  {
   "cell_type": "markdown",
   "metadata": {},
   "source": [
    "# (2) BJA"
   ]
  },
  {
   "cell_type": "code",
   "execution_count": 13,
   "metadata": {
    "collapsed": false
   },
   "outputs": [],
   "source": [
    "BJA = xls.parse(\n",
    "    1, index_col=[1], na_values=['-','.'],\n",
    "    skiprows=[0,1,2,3,4,5],\n",
    "    skip_footer=26\n",
    ")"
   ]
  },
  {
   "cell_type": "code",
   "execution_count": 14,
   "metadata": {
    "collapsed": false
   },
   "outputs": [],
   "source": [
    "BJA_new = makeNew(BJA, cut=11)"
   ]
  },
  {
   "cell_type": "code",
   "execution_count": 15,
   "metadata": {
    "collapsed": false
   },
   "outputs": [
    {
     "data": {
      "text/plain": [
       "Insgesamt          float64\n",
       "Vor 1919           float64\n",
       "1919 - 1948        float64\n",
       "1949 - 1978        float64\n",
       "1979 - 1986        float64\n",
       "1987 - 1990        float64\n",
       "1991 - 1995        float64\n",
       "1996 - 2000        float64\n",
       "2001 - 2004        float64\n",
       "2005 - 2008        float64\n",
       "2009 und später    float64\n",
       "dtype: object"
      ]
     },
     "execution_count": 15,
     "metadata": {},
     "output_type": "execute_result"
    }
   ],
   "source": [
    "BJA_new.dtypes"
   ]
  },
  {
   "cell_type": "code",
   "execution_count": 16,
   "metadata": {
    "collapsed": false
   },
   "outputs": [
    {
     "data": {
      "text/html": [
       "<div>\n",
       "<table border=\"1\" class=\"dataframe\">\n",
       "  <thead>\n",
       "    <tr style=\"text-align: right;\">\n",
       "      <th></th>\n",
       "      <th>Insgesamt</th>\n",
       "      <th>Vor 1919</th>\n",
       "      <th>1919 - 1948</th>\n",
       "      <th>1949 - 1978</th>\n",
       "      <th>1979 - 1986</th>\n",
       "      <th>1987 - 1990</th>\n",
       "      <th>1991 - 1995</th>\n",
       "      <th>1996 - 2000</th>\n",
       "      <th>2001 - 2004</th>\n",
       "      <th>2005 - 2008</th>\n",
       "      <th>2009 und später</th>\n",
       "    </tr>\n",
       "  </thead>\n",
       "  <tbody>\n",
       "    <tr>\n",
       "      <th>001002</th>\n",
       "      <td>9</td>\n",
       "      <td>4</td>\n",
       "      <td>NaN</td>\n",
       "      <td>3</td>\n",
       "      <td>NaN</td>\n",
       "      <td>NaN</td>\n",
       "      <td>NaN</td>\n",
       "      <td>NaN</td>\n",
       "      <td>NaN</td>\n",
       "      <td>NaN</td>\n",
       "      <td>NaN</td>\n",
       "    </tr>\n",
       "    <tr>\n",
       "      <th>001003</th>\n",
       "      <td>6</td>\n",
       "      <td>NaN</td>\n",
       "      <td>3</td>\n",
       "      <td>3</td>\n",
       "      <td>NaN</td>\n",
       "      <td>NaN</td>\n",
       "      <td>NaN</td>\n",
       "      <td>NaN</td>\n",
       "      <td>NaN</td>\n",
       "      <td>NaN</td>\n",
       "      <td>NaN</td>\n",
       "    </tr>\n",
       "    <tr>\n",
       "      <th>001004</th>\n",
       "      <td>7</td>\n",
       "      <td>4</td>\n",
       "      <td>NaN</td>\n",
       "      <td>3</td>\n",
       "      <td>NaN</td>\n",
       "      <td>NaN</td>\n",
       "      <td>NaN</td>\n",
       "      <td>NaN</td>\n",
       "      <td>NaN</td>\n",
       "      <td>NaN</td>\n",
       "      <td>NaN</td>\n",
       "    </tr>\n",
       "    <tr>\n",
       "      <th>001005</th>\n",
       "      <td>6</td>\n",
       "      <td>NaN</td>\n",
       "      <td>3</td>\n",
       "      <td>NaN</td>\n",
       "      <td>NaN</td>\n",
       "      <td>NaN</td>\n",
       "      <td>NaN</td>\n",
       "      <td>NaN</td>\n",
       "      <td>NaN</td>\n",
       "      <td>NaN</td>\n",
       "      <td>NaN</td>\n",
       "    </tr>\n",
       "    <tr>\n",
       "      <th>001006</th>\n",
       "      <td>15</td>\n",
       "      <td>8</td>\n",
       "      <td>NaN</td>\n",
       "      <td>3</td>\n",
       "      <td>NaN</td>\n",
       "      <td>NaN</td>\n",
       "      <td>NaN</td>\n",
       "      <td>NaN</td>\n",
       "      <td>NaN</td>\n",
       "      <td>NaN</td>\n",
       "      <td>NaN</td>\n",
       "    </tr>\n",
       "  </tbody>\n",
       "</table>\n",
       "</div>"
      ],
      "text/plain": [
       "        Insgesamt  Vor 1919  1919 - 1948  1949 - 1978  1979 - 1986  \\\n",
       "001002          9         4          NaN            3          NaN   \n",
       "001003          6       NaN            3            3          NaN   \n",
       "001004          7         4          NaN            3          NaN   \n",
       "001005          6       NaN            3          NaN          NaN   \n",
       "001006         15         8          NaN            3          NaN   \n",
       "\n",
       "        1987 - 1990  1991 - 1995  1996 - 2000  2001 - 2004  2005 - 2008  \\\n",
       "001002          NaN          NaN          NaN          NaN          NaN   \n",
       "001003          NaN          NaN          NaN          NaN          NaN   \n",
       "001004          NaN          NaN          NaN          NaN          NaN   \n",
       "001005          NaN          NaN          NaN          NaN          NaN   \n",
       "001006          NaN          NaN          NaN          NaN          NaN   \n",
       "\n",
       "        2009 und später  \n",
       "001002              NaN  \n",
       "001003              NaN  \n",
       "001004              NaN  \n",
       "001005              NaN  \n",
       "001006              NaN  "
      ]
     },
     "execution_count": 16,
     "metadata": {},
     "output_type": "execute_result"
    }
   ],
   "source": [
    "BJA_new.head()"
   ]
  },
  {
   "cell_type": "code",
   "execution_count": 17,
   "metadata": {
    "collapsed": false
   },
   "outputs": [
    {
     "data": {
      "text/html": [
       "<div>\n",
       "<table border=\"1\" class=\"dataframe\">\n",
       "  <thead>\n",
       "    <tr style=\"text-align: right;\">\n",
       "      <th></th>\n",
       "      <th>Insgesamt</th>\n",
       "      <th>Vor 1919</th>\n",
       "      <th>1919 - 1948</th>\n",
       "      <th>1949 - 1978</th>\n",
       "      <th>1979 - 1986</th>\n",
       "      <th>1987 - 1990</th>\n",
       "      <th>1991 - 1995</th>\n",
       "      <th>1996 - 2000</th>\n",
       "      <th>2001 - 2004</th>\n",
       "      <th>2005 - 2008</th>\n",
       "      <th>2009 und später</th>\n",
       "    </tr>\n",
       "  </thead>\n",
       "  <tbody>\n",
       "    <tr>\n",
       "      <th>107011</th>\n",
       "      <td>300</td>\n",
       "      <td>NaN</td>\n",
       "      <td>NaN</td>\n",
       "      <td>8</td>\n",
       "      <td>NaN</td>\n",
       "      <td>NaN</td>\n",
       "      <td>31</td>\n",
       "      <td>NaN</td>\n",
       "      <td>7</td>\n",
       "      <td>NaN</td>\n",
       "      <td>NaN</td>\n",
       "    </tr>\n",
       "    <tr>\n",
       "      <th>107012</th>\n",
       "      <td>148</td>\n",
       "      <td>NaN</td>\n",
       "      <td>NaN</td>\n",
       "      <td>NaN</td>\n",
       "      <td>NaN</td>\n",
       "      <td>21</td>\n",
       "      <td>NaN</td>\n",
       "      <td>NaN</td>\n",
       "      <td>NaN</td>\n",
       "      <td>NaN</td>\n",
       "      <td>NaN</td>\n",
       "    </tr>\n",
       "    <tr>\n",
       "      <th>107013</th>\n",
       "      <td>215</td>\n",
       "      <td>NaN</td>\n",
       "      <td>6</td>\n",
       "      <td>37</td>\n",
       "      <td>36</td>\n",
       "      <td>18</td>\n",
       "      <td>NaN</td>\n",
       "      <td>NaN</td>\n",
       "      <td>NaN</td>\n",
       "      <td>NaN</td>\n",
       "      <td>NaN</td>\n",
       "    </tr>\n",
       "    <tr>\n",
       "      <th>107014</th>\n",
       "      <td>413</td>\n",
       "      <td>NaN</td>\n",
       "      <td>NaN</td>\n",
       "      <td>NaN</td>\n",
       "      <td>162</td>\n",
       "      <td>36</td>\n",
       "      <td>NaN</td>\n",
       "      <td>30</td>\n",
       "      <td>22</td>\n",
       "      <td>21</td>\n",
       "      <td>NaN</td>\n",
       "    </tr>\n",
       "    <tr>\n",
       "      <th>107015</th>\n",
       "      <td>517</td>\n",
       "      <td>3</td>\n",
       "      <td>4</td>\n",
       "      <td>17</td>\n",
       "      <td>14</td>\n",
       "      <td>36</td>\n",
       "      <td>NaN</td>\n",
       "      <td>NaN</td>\n",
       "      <td>26</td>\n",
       "      <td>NaN</td>\n",
       "      <td>NaN</td>\n",
       "    </tr>\n",
       "  </tbody>\n",
       "</table>\n",
       "</div>"
      ],
      "text/plain": [
       "        Insgesamt  Vor 1919  1919 - 1948  1949 - 1978  1979 - 1986  \\\n",
       "107011        300       NaN          NaN            8          NaN   \n",
       "107012        148       NaN          NaN          NaN          NaN   \n",
       "107013        215       NaN            6           37           36   \n",
       "107014        413       NaN          NaN          NaN          162   \n",
       "107015        517         3            4           17           14   \n",
       "\n",
       "        1987 - 1990  1991 - 1995  1996 - 2000  2001 - 2004  2005 - 2008  \\\n",
       "107011          NaN           31          NaN            7          NaN   \n",
       "107012           21          NaN          NaN          NaN          NaN   \n",
       "107013           18          NaN          NaN          NaN          NaN   \n",
       "107014           36          NaN           30           22           21   \n",
       "107015           36          NaN          NaN           26          NaN   \n",
       "\n",
       "        2009 und später  \n",
       "107011              NaN  \n",
       "107012              NaN  \n",
       "107013              NaN  \n",
       "107014              NaN  \n",
       "107015              NaN  "
      ]
     },
     "execution_count": 17,
     "metadata": {},
     "output_type": "execute_result"
    }
   ],
   "source": [
    "BJA_new.tail()"
   ]
  },
  {
   "cell_type": "code",
   "execution_count": 18,
   "metadata": {
    "collapsed": true
   },
   "outputs": [],
   "source": [
    "BJA_new.to_csv(\"BJA.csv\")"
   ]
  },
  {
   "cell_type": "markdown",
   "metadata": {},
   "source": [
    "#(3) Ownership"
   ]
  },
  {
   "cell_type": "code",
   "execution_count": 19,
   "metadata": {
    "collapsed": true
   },
   "outputs": [],
   "source": [
    "OWN = xls.parse(\n",
    "    2, index_col=[1], na_values=['-','.'],\n",
    "    skiprows=[0,1,2,3,4,5],\n",
    "    skip_footer=22\n",
    ")"
   ]
  },
  {
   "cell_type": "code",
   "execution_count": 20,
   "metadata": {
    "collapsed": false
   },
   "outputs": [],
   "source": [
    "OWN_new = makeNew(OWN, cut=9)"
   ]
  },
  {
   "cell_type": "code",
   "execution_count": 21,
   "metadata": {
    "collapsed": false
   },
   "outputs": [
    {
     "data": {
      "text/plain": [
       "Insgesamt                                       float64\n",
       "Gemeinschaft von Wohnungseigentümern/-innen     float64\n",
       "Privatperson/-en                                float64\n",
       "Wohnungsgenossenschaft                          float64\n",
       "Kommune oder kommunales Wohnungsunternehmen     float64\n",
       "Privatwirtschaftliches Wohnungsunternehmen      float64\n",
       "Anderes privatwirtschaftliches Unternehmen      float64\n",
       "Bund oder Land                                  float64\n",
       "Organisation ohne Erwerbszweck (z.B. Kirche)    float64\n",
       "dtype: object"
      ]
     },
     "execution_count": 21,
     "metadata": {},
     "output_type": "execute_result"
    }
   ],
   "source": [
    "OWN_new.dtypes"
   ]
  },
  {
   "cell_type": "code",
   "execution_count": 22,
   "metadata": {
    "collapsed": false
   },
   "outputs": [
    {
     "data": {
      "text/html": [
       "<div>\n",
       "<table border=\"1\" class=\"dataframe\">\n",
       "  <thead>\n",
       "    <tr style=\"text-align: right;\">\n",
       "      <th></th>\n",
       "      <th>Insgesamt</th>\n",
       "      <th>Gemeinschaft von Wohnungseigentümern/-innen</th>\n",
       "      <th>Privatperson/-en</th>\n",
       "      <th>Wohnungsgenossenschaft</th>\n",
       "      <th>Kommune oder kommunales Wohnungsunternehmen</th>\n",
       "      <th>Privatwirtschaftliches Wohnungsunternehmen</th>\n",
       "      <th>Anderes privatwirtschaftliches Unternehmen</th>\n",
       "      <th>Bund oder Land</th>\n",
       "      <th>Organisation ohne Erwerbszweck (z.B. Kirche)</th>\n",
       "    </tr>\n",
       "  </thead>\n",
       "  <tbody>\n",
       "    <tr>\n",
       "      <th>001002</th>\n",
       "      <td>9</td>\n",
       "      <td>NaN</td>\n",
       "      <td>5</td>\n",
       "      <td>NaN</td>\n",
       "      <td>NaN</td>\n",
       "      <td>NaN</td>\n",
       "      <td>NaN</td>\n",
       "      <td>NaN</td>\n",
       "      <td>3</td>\n",
       "    </tr>\n",
       "    <tr>\n",
       "      <th>001003</th>\n",
       "      <td>6</td>\n",
       "      <td>NaN</td>\n",
       "      <td>5</td>\n",
       "      <td>NaN</td>\n",
       "      <td>NaN</td>\n",
       "      <td>NaN</td>\n",
       "      <td>NaN</td>\n",
       "      <td>NaN</td>\n",
       "      <td>NaN</td>\n",
       "    </tr>\n",
       "    <tr>\n",
       "      <th>001004</th>\n",
       "      <td>7</td>\n",
       "      <td>NaN</td>\n",
       "      <td>5</td>\n",
       "      <td>NaN</td>\n",
       "      <td>NaN</td>\n",
       "      <td>NaN</td>\n",
       "      <td>NaN</td>\n",
       "      <td>NaN</td>\n",
       "      <td>NaN</td>\n",
       "    </tr>\n",
       "    <tr>\n",
       "      <th>001005</th>\n",
       "      <td>6</td>\n",
       "      <td>NaN</td>\n",
       "      <td>NaN</td>\n",
       "      <td>NaN</td>\n",
       "      <td>NaN</td>\n",
       "      <td>3</td>\n",
       "      <td>NaN</td>\n",
       "      <td>NaN</td>\n",
       "      <td>NaN</td>\n",
       "    </tr>\n",
       "    <tr>\n",
       "      <th>001006</th>\n",
       "      <td>15</td>\n",
       "      <td>5</td>\n",
       "      <td>6</td>\n",
       "      <td>NaN</td>\n",
       "      <td>NaN</td>\n",
       "      <td>NaN</td>\n",
       "      <td>3</td>\n",
       "      <td>NaN</td>\n",
       "      <td>NaN</td>\n",
       "    </tr>\n",
       "  </tbody>\n",
       "</table>\n",
       "</div>"
      ],
      "text/plain": [
       "        Insgesamt  Gemeinschaft von Wohnungseigentümern/-innen  \\\n",
       "001002          9                                          NaN   \n",
       "001003          6                                          NaN   \n",
       "001004          7                                          NaN   \n",
       "001005          6                                          NaN   \n",
       "001006         15                                            5   \n",
       "\n",
       "        Privatperson/-en  Wohnungsgenossenschaft  \\\n",
       "001002                 5                     NaN   \n",
       "001003                 5                     NaN   \n",
       "001004                 5                     NaN   \n",
       "001005               NaN                     NaN   \n",
       "001006                 6                     NaN   \n",
       "\n",
       "        Kommune oder kommunales Wohnungsunternehmen  \\\n",
       "001002                                          NaN   \n",
       "001003                                          NaN   \n",
       "001004                                          NaN   \n",
       "001005                                          NaN   \n",
       "001006                                          NaN   \n",
       "\n",
       "        Privatwirtschaftliches Wohnungsunternehmen  \\\n",
       "001002                                         NaN   \n",
       "001003                                         NaN   \n",
       "001004                                         NaN   \n",
       "001005                                           3   \n",
       "001006                                         NaN   \n",
       "\n",
       "        Anderes privatwirtschaftliches Unternehmen  Bund oder Land  \\\n",
       "001002                                         NaN             NaN   \n",
       "001003                                         NaN             NaN   \n",
       "001004                                         NaN             NaN   \n",
       "001005                                         NaN             NaN   \n",
       "001006                                           3             NaN   \n",
       "\n",
       "        Organisation ohne Erwerbszweck (z.B. Kirche)  \n",
       "001002                                             3  \n",
       "001003                                           NaN  \n",
       "001004                                           NaN  \n",
       "001005                                           NaN  \n",
       "001006                                           NaN  "
      ]
     },
     "execution_count": 22,
     "metadata": {},
     "output_type": "execute_result"
    }
   ],
   "source": [
    "OWN_new.head()"
   ]
  },
  {
   "cell_type": "code",
   "execution_count": 23,
   "metadata": {
    "collapsed": false
   },
   "outputs": [
    {
     "data": {
      "text/html": [
       "<div>\n",
       "<table border=\"1\" class=\"dataframe\">\n",
       "  <thead>\n",
       "    <tr style=\"text-align: right;\">\n",
       "      <th></th>\n",
       "      <th>Insgesamt</th>\n",
       "      <th>Gemeinschaft von Wohnungseigentümern/-innen</th>\n",
       "      <th>Privatperson/-en</th>\n",
       "      <th>Wohnungsgenossenschaft</th>\n",
       "      <th>Kommune oder kommunales Wohnungsunternehmen</th>\n",
       "      <th>Privatwirtschaftliches Wohnungsunternehmen</th>\n",
       "      <th>Anderes privatwirtschaftliches Unternehmen</th>\n",
       "      <th>Bund oder Land</th>\n",
       "      <th>Organisation ohne Erwerbszweck (z.B. Kirche)</th>\n",
       "    </tr>\n",
       "  </thead>\n",
       "  <tbody>\n",
       "    <tr>\n",
       "      <th>107011</th>\n",
       "      <td>300</td>\n",
       "      <td>3</td>\n",
       "      <td>294</td>\n",
       "      <td>NaN</td>\n",
       "      <td>NaN</td>\n",
       "      <td>NaN</td>\n",
       "      <td>NaN</td>\n",
       "      <td>NaN</td>\n",
       "      <td>NaN</td>\n",
       "    </tr>\n",
       "    <tr>\n",
       "      <th>107012</th>\n",
       "      <td>148</td>\n",
       "      <td>7</td>\n",
       "      <td>59</td>\n",
       "      <td>47</td>\n",
       "      <td>15</td>\n",
       "      <td>19</td>\n",
       "      <td>NaN</td>\n",
       "      <td>NaN</td>\n",
       "      <td>NaN</td>\n",
       "    </tr>\n",
       "    <tr>\n",
       "      <th>107013</th>\n",
       "      <td>215</td>\n",
       "      <td>13</td>\n",
       "      <td>19</td>\n",
       "      <td>NaN</td>\n",
       "      <td>15</td>\n",
       "      <td>60</td>\n",
       "      <td>NaN</td>\n",
       "      <td>NaN</td>\n",
       "      <td>NaN</td>\n",
       "    </tr>\n",
       "    <tr>\n",
       "      <th>107014</th>\n",
       "      <td>413</td>\n",
       "      <td>3</td>\n",
       "      <td>309</td>\n",
       "      <td>NaN</td>\n",
       "      <td>NaN</td>\n",
       "      <td>NaN</td>\n",
       "      <td>NaN</td>\n",
       "      <td>NaN</td>\n",
       "      <td>4</td>\n",
       "    </tr>\n",
       "    <tr>\n",
       "      <th>107015</th>\n",
       "      <td>517</td>\n",
       "      <td>15</td>\n",
       "      <td>444</td>\n",
       "      <td>6</td>\n",
       "      <td>5</td>\n",
       "      <td>47</td>\n",
       "      <td>NaN</td>\n",
       "      <td>NaN</td>\n",
       "      <td>NaN</td>\n",
       "    </tr>\n",
       "  </tbody>\n",
       "</table>\n",
       "</div>"
      ],
      "text/plain": [
       "        Insgesamt  Gemeinschaft von Wohnungseigentümern/-innen  \\\n",
       "107011        300                                            3   \n",
       "107012        148                                            7   \n",
       "107013        215                                           13   \n",
       "107014        413                                            3   \n",
       "107015        517                                           15   \n",
       "\n",
       "        Privatperson/-en  Wohnungsgenossenschaft  \\\n",
       "107011               294                     NaN   \n",
       "107012                59                      47   \n",
       "107013                19                     NaN   \n",
       "107014               309                     NaN   \n",
       "107015               444                       6   \n",
       "\n",
       "        Kommune oder kommunales Wohnungsunternehmen  \\\n",
       "107011                                          NaN   \n",
       "107012                                           15   \n",
       "107013                                           15   \n",
       "107014                                          NaN   \n",
       "107015                                            5   \n",
       "\n",
       "        Privatwirtschaftliches Wohnungsunternehmen  \\\n",
       "107011                                         NaN   \n",
       "107012                                          19   \n",
       "107013                                          60   \n",
       "107014                                         NaN   \n",
       "107015                                          47   \n",
       "\n",
       "        Anderes privatwirtschaftliches Unternehmen  Bund oder Land  \\\n",
       "107011                                         NaN             NaN   \n",
       "107012                                         NaN             NaN   \n",
       "107013                                         NaN             NaN   \n",
       "107014                                         NaN             NaN   \n",
       "107015                                         NaN             NaN   \n",
       "\n",
       "        Organisation ohne Erwerbszweck (z.B. Kirche)  \n",
       "107011                                           NaN  \n",
       "107012                                           NaN  \n",
       "107013                                           NaN  \n",
       "107014                                             4  \n",
       "107015                                           NaN  "
      ]
     },
     "execution_count": 23,
     "metadata": {},
     "output_type": "execute_result"
    }
   ],
   "source": [
    "OWN_new.tail()"
   ]
  },
  {
   "cell_type": "code",
   "execution_count": 24,
   "metadata": {
    "collapsed": true
   },
   "outputs": [],
   "source": [
    "OWN_new.to_csv(\"OWN.csv\")"
   ]
  },
  {
   "cell_type": "markdown",
   "metadata": {},
   "source": [
    "#(4) Btyp"
   ]
  },
  {
   "cell_type": "code",
   "execution_count": 25,
   "metadata": {
    "collapsed": true
   },
   "outputs": [],
   "source": [
    "Btyp = xls.parse(\n",
    "    3, index_col=[1], na_values=['-','.'],\n",
    "    skiprows=[0,1,2,3,4,5],\n",
    "    skip_footer=14\n",
    ")"
   ]
  },
  {
   "cell_type": "code",
   "execution_count": 26,
   "metadata": {
    "collapsed": false
   },
   "outputs": [],
   "source": [
    "Btyp_new = makeNew(Btyp, cut=5)"
   ]
  },
  {
   "cell_type": "code",
   "execution_count": 27,
   "metadata": {
    "collapsed": false
   },
   "outputs": [
    {
     "data": {
      "text/plain": [
       "Insgesamt             float64\n",
       "Freistehendes Haus    float64\n",
       "Doppelhaushälfte      float64\n",
       "Gereihtes Haus        float64\n",
       "Anderer Gebäudetyp    float64\n",
       "dtype: object"
      ]
     },
     "execution_count": 27,
     "metadata": {},
     "output_type": "execute_result"
    }
   ],
   "source": [
    "Btyp_new.dtypes"
   ]
  },
  {
   "cell_type": "code",
   "execution_count": 28,
   "metadata": {
    "collapsed": false
   },
   "outputs": [
    {
     "data": {
      "text/html": [
       "<div>\n",
       "<table border=\"1\" class=\"dataframe\">\n",
       "  <thead>\n",
       "    <tr style=\"text-align: right;\">\n",
       "      <th></th>\n",
       "      <th>Insgesamt</th>\n",
       "      <th>Freistehendes Haus</th>\n",
       "      <th>Doppelhaushälfte</th>\n",
       "      <th>Gereihtes Haus</th>\n",
       "      <th>Anderer Gebäudetyp</th>\n",
       "    </tr>\n",
       "  </thead>\n",
       "  <tbody>\n",
       "    <tr>\n",
       "      <th>001002</th>\n",
       "      <td>9</td>\n",
       "      <td>NaN</td>\n",
       "      <td>NaN</td>\n",
       "      <td>NaN</td>\n",
       "      <td>6</td>\n",
       "    </tr>\n",
       "    <tr>\n",
       "      <th>001003</th>\n",
       "      <td>6</td>\n",
       "      <td>NaN</td>\n",
       "      <td>NaN</td>\n",
       "      <td>3</td>\n",
       "      <td>3</td>\n",
       "    </tr>\n",
       "    <tr>\n",
       "      <th>001004</th>\n",
       "      <td>7</td>\n",
       "      <td>NaN</td>\n",
       "      <td>NaN</td>\n",
       "      <td>3</td>\n",
       "      <td>3</td>\n",
       "    </tr>\n",
       "    <tr>\n",
       "      <th>001005</th>\n",
       "      <td>6</td>\n",
       "      <td>NaN</td>\n",
       "      <td>NaN</td>\n",
       "      <td>5</td>\n",
       "      <td>NaN</td>\n",
       "    </tr>\n",
       "    <tr>\n",
       "      <th>001006</th>\n",
       "      <td>15</td>\n",
       "      <td>3</td>\n",
       "      <td>NaN</td>\n",
       "      <td>6</td>\n",
       "      <td>7</td>\n",
       "    </tr>\n",
       "  </tbody>\n",
       "</table>\n",
       "</div>"
      ],
      "text/plain": [
       "        Insgesamt  Freistehendes Haus  Doppelhaushälfte  Gereihtes Haus  \\\n",
       "001002          9                 NaN               NaN             NaN   \n",
       "001003          6                 NaN               NaN               3   \n",
       "001004          7                 NaN               NaN               3   \n",
       "001005          6                 NaN               NaN               5   \n",
       "001006         15                   3               NaN               6   \n",
       "\n",
       "        Anderer Gebäudetyp  \n",
       "001002                   6  \n",
       "001003                   3  \n",
       "001004                   3  \n",
       "001005                 NaN  \n",
       "001006                   7  "
      ]
     },
     "execution_count": 28,
     "metadata": {},
     "output_type": "execute_result"
    }
   ],
   "source": [
    "Btyp_new.head()"
   ]
  },
  {
   "cell_type": "code",
   "execution_count": 29,
   "metadata": {
    "collapsed": false
   },
   "outputs": [
    {
     "data": {
      "text/html": [
       "<div>\n",
       "<table border=\"1\" class=\"dataframe\">\n",
       "  <thead>\n",
       "    <tr style=\"text-align: right;\">\n",
       "      <th></th>\n",
       "      <th>Insgesamt</th>\n",
       "      <th>Freistehendes Haus</th>\n",
       "      <th>Doppelhaushälfte</th>\n",
       "      <th>Gereihtes Haus</th>\n",
       "      <th>Anderer Gebäudetyp</th>\n",
       "    </tr>\n",
       "  </thead>\n",
       "  <tbody>\n",
       "    <tr>\n",
       "      <th>107011</th>\n",
       "      <td>300</td>\n",
       "      <td>72</td>\n",
       "      <td>8</td>\n",
       "      <td>217</td>\n",
       "      <td>3</td>\n",
       "    </tr>\n",
       "    <tr>\n",
       "      <th>107012</th>\n",
       "      <td>148</td>\n",
       "      <td>14</td>\n",
       "      <td>NaN</td>\n",
       "      <td>112</td>\n",
       "      <td>17</td>\n",
       "    </tr>\n",
       "    <tr>\n",
       "      <th>107013</th>\n",
       "      <td>215</td>\n",
       "      <td>8</td>\n",
       "      <td>6</td>\n",
       "      <td>122</td>\n",
       "      <td>79</td>\n",
       "    </tr>\n",
       "    <tr>\n",
       "      <th>107014</th>\n",
       "      <td>413</td>\n",
       "      <td>12</td>\n",
       "      <td>16</td>\n",
       "      <td>380</td>\n",
       "      <td>5</td>\n",
       "    </tr>\n",
       "    <tr>\n",
       "      <th>107015</th>\n",
       "      <td>517</td>\n",
       "      <td>228</td>\n",
       "      <td>29</td>\n",
       "      <td>226</td>\n",
       "      <td>34</td>\n",
       "    </tr>\n",
       "  </tbody>\n",
       "</table>\n",
       "</div>"
      ],
      "text/plain": [
       "        Insgesamt  Freistehendes Haus  Doppelhaushälfte  Gereihtes Haus  \\\n",
       "107011        300                  72                 8             217   \n",
       "107012        148                  14               NaN             112   \n",
       "107013        215                   8                 6             122   \n",
       "107014        413                  12                16             380   \n",
       "107015        517                 228                29             226   \n",
       "\n",
       "        Anderer Gebäudetyp  \n",
       "107011                   3  \n",
       "107012                  17  \n",
       "107013                  79  \n",
       "107014                   5  \n",
       "107015                  34  "
      ]
     },
     "execution_count": 29,
     "metadata": {},
     "output_type": "execute_result"
    }
   ],
   "source": [
    "Btyp_new.tail()"
   ]
  },
  {
   "cell_type": "code",
   "execution_count": 30,
   "metadata": {
    "collapsed": true
   },
   "outputs": [],
   "source": [
    "Btyp_new.to_csv(\"BTYP.csv\")"
   ]
  },
  {
   "cell_type": "markdown",
   "metadata": {},
   "source": [
    "#(5) NDU"
   ]
  },
  {
   "cell_type": "code",
   "execution_count": 31,
   "metadata": {
    "collapsed": true
   },
   "outputs": [],
   "source": [
    "Ndu = xls.parse(\n",
    "    4, index_col=[1], na_values=['-','.'],\n",
    "    skiprows=[0,1,2,3,4,5],\n",
    "    skip_footer=16\n",
    ")"
   ]
  },
  {
   "cell_type": "code",
   "execution_count": 32,
   "metadata": {
    "collapsed": false
   },
   "outputs": [],
   "source": [
    "Ndu_new = makeNew(Ndu, cut=6)"
   ]
  },
  {
   "cell_type": "code",
   "execution_count": 33,
   "metadata": {
    "collapsed": false
   },
   "outputs": [
    {
     "data": {
      "text/plain": [
       "Insgesamt                float64\n",
       "1 Wohnung                float64\n",
       "2 Wohnungen              float64\n",
       "3 - 6 Wohnungen          float64\n",
       "7 - 12 Wohnungen         float64\n",
       "13 und mehr Wohnungen    float64\n",
       "dtype: object"
      ]
     },
     "execution_count": 33,
     "metadata": {},
     "output_type": "execute_result"
    }
   ],
   "source": [
    "Ndu_new.dtypes"
   ]
  },
  {
   "cell_type": "code",
   "execution_count": 34,
   "metadata": {
    "collapsed": false
   },
   "outputs": [
    {
     "data": {
      "text/html": [
       "<div>\n",
       "<table border=\"1\" class=\"dataframe\">\n",
       "  <thead>\n",
       "    <tr style=\"text-align: right;\">\n",
       "      <th></th>\n",
       "      <th>Insgesamt</th>\n",
       "      <th>1 Wohnung</th>\n",
       "      <th>2 Wohnungen</th>\n",
       "      <th>3 - 6 Wohnungen</th>\n",
       "      <th>7 - 12 Wohnungen</th>\n",
       "      <th>13 und mehr Wohnungen</th>\n",
       "    </tr>\n",
       "  </thead>\n",
       "  <tbody>\n",
       "    <tr>\n",
       "      <th>001002</th>\n",
       "      <td>9</td>\n",
       "      <td>8</td>\n",
       "      <td>NaN</td>\n",
       "      <td>NaN</td>\n",
       "      <td>NaN</td>\n",
       "      <td>NaN</td>\n",
       "    </tr>\n",
       "    <tr>\n",
       "      <th>001003</th>\n",
       "      <td>6</td>\n",
       "      <td>4</td>\n",
       "      <td>3</td>\n",
       "      <td>NaN</td>\n",
       "      <td>NaN</td>\n",
       "      <td>NaN</td>\n",
       "    </tr>\n",
       "    <tr>\n",
       "      <th>001004</th>\n",
       "      <td>7</td>\n",
       "      <td>3</td>\n",
       "      <td>NaN</td>\n",
       "      <td>NaN</td>\n",
       "      <td>NaN</td>\n",
       "      <td>NaN</td>\n",
       "    </tr>\n",
       "    <tr>\n",
       "      <th>001005</th>\n",
       "      <td>6</td>\n",
       "      <td>3</td>\n",
       "      <td>NaN</td>\n",
       "      <td>NaN</td>\n",
       "      <td>3</td>\n",
       "      <td>NaN</td>\n",
       "    </tr>\n",
       "    <tr>\n",
       "      <th>001006</th>\n",
       "      <td>15</td>\n",
       "      <td>8</td>\n",
       "      <td>3</td>\n",
       "      <td>4</td>\n",
       "      <td>NaN</td>\n",
       "      <td>NaN</td>\n",
       "    </tr>\n",
       "  </tbody>\n",
       "</table>\n",
       "</div>"
      ],
      "text/plain": [
       "        Insgesamt  1 Wohnung  2 Wohnungen  3 - 6 Wohnungen  7 - 12 Wohnungen  \\\n",
       "001002          9          8          NaN              NaN               NaN   \n",
       "001003          6          4            3              NaN               NaN   \n",
       "001004          7          3          NaN              NaN               NaN   \n",
       "001005          6          3          NaN              NaN                 3   \n",
       "001006         15          8            3                4               NaN   \n",
       "\n",
       "        13 und mehr Wohnungen  \n",
       "001002                    NaN  \n",
       "001003                    NaN  \n",
       "001004                    NaN  \n",
       "001005                    NaN  \n",
       "001006                    NaN  "
      ]
     },
     "execution_count": 34,
     "metadata": {},
     "output_type": "execute_result"
    }
   ],
   "source": [
    "Ndu_new.head()"
   ]
  },
  {
   "cell_type": "code",
   "execution_count": 35,
   "metadata": {
    "collapsed": false
   },
   "outputs": [
    {
     "data": {
      "text/html": [
       "<div>\n",
       "<table border=\"1\" class=\"dataframe\">\n",
       "  <thead>\n",
       "    <tr style=\"text-align: right;\">\n",
       "      <th></th>\n",
       "      <th>Insgesamt</th>\n",
       "      <th>1 Wohnung</th>\n",
       "      <th>2 Wohnungen</th>\n",
       "      <th>3 - 6 Wohnungen</th>\n",
       "      <th>7 - 12 Wohnungen</th>\n",
       "      <th>13 und mehr Wohnungen</th>\n",
       "    </tr>\n",
       "  </thead>\n",
       "  <tbody>\n",
       "    <tr>\n",
       "      <th>107011</th>\n",
       "      <td>300</td>\n",
       "      <td>287</td>\n",
       "      <td>12</td>\n",
       "      <td>NaN</td>\n",
       "      <td>NaN</td>\n",
       "      <td>NaN</td>\n",
       "    </tr>\n",
       "    <tr>\n",
       "      <th>107012</th>\n",
       "      <td>148</td>\n",
       "      <td>45</td>\n",
       "      <td>NaN</td>\n",
       "      <td>40</td>\n",
       "      <td>61</td>\n",
       "      <td>NaN</td>\n",
       "    </tr>\n",
       "    <tr>\n",
       "      <th>107013</th>\n",
       "      <td>215</td>\n",
       "      <td>60</td>\n",
       "      <td>3</td>\n",
       "      <td>70</td>\n",
       "      <td>79</td>\n",
       "      <td>4</td>\n",
       "    </tr>\n",
       "    <tr>\n",
       "      <th>107014</th>\n",
       "      <td>413</td>\n",
       "      <td>398</td>\n",
       "      <td>6</td>\n",
       "      <td>7</td>\n",
       "      <td>3</td>\n",
       "      <td>NaN</td>\n",
       "    </tr>\n",
       "    <tr>\n",
       "      <th>107015</th>\n",
       "      <td>517</td>\n",
       "      <td>451</td>\n",
       "      <td>64</td>\n",
       "      <td>3</td>\n",
       "      <td>NaN</td>\n",
       "      <td>NaN</td>\n",
       "    </tr>\n",
       "  </tbody>\n",
       "</table>\n",
       "</div>"
      ],
      "text/plain": [
       "        Insgesamt  1 Wohnung  2 Wohnungen  3 - 6 Wohnungen  7 - 12 Wohnungen  \\\n",
       "107011        300        287           12              NaN               NaN   \n",
       "107012        148         45          NaN               40                61   \n",
       "107013        215         60            3               70                79   \n",
       "107014        413        398            6                7                 3   \n",
       "107015        517        451           64                3               NaN   \n",
       "\n",
       "        13 und mehr Wohnungen  \n",
       "107011                    NaN  \n",
       "107012                    NaN  \n",
       "107013                      4  \n",
       "107014                    NaN  \n",
       "107015                    NaN  "
      ]
     },
     "execution_count": 35,
     "metadata": {},
     "output_type": "execute_result"
    }
   ],
   "source": [
    "Ndu_new.tail()"
   ]
  },
  {
   "cell_type": "code",
   "execution_count": 36,
   "metadata": {
    "collapsed": true
   },
   "outputs": [],
   "source": [
    "Ndu_new.to_csv(\"NDU.csv\")"
   ]
  },
  {
   "cell_type": "markdown",
   "metadata": {},
   "source": [
    "#(6) HEAT"
   ]
  },
  {
   "cell_type": "code",
   "execution_count": 37,
   "metadata": {
    "collapsed": true
   },
   "outputs": [],
   "source": [
    "HEAT = xls.parse(\n",
    "    5, index_col=[1], na_values=['-','.'],\n",
    "    skiprows=[0,1,2,3,4,5],\n",
    "    skip_footer=18\n",
    ")"
   ]
  },
  {
   "cell_type": "code",
   "execution_count": 38,
   "metadata": {
    "collapsed": true
   },
   "outputs": [],
   "source": [
    "HEAT_new = makeNew(HEAT, cut=7)"
   ]
  },
  {
   "cell_type": "code",
   "execution_count": 39,
   "metadata": {
    "collapsed": false
   },
   "outputs": [
    {
     "data": {
      "text/plain": [
       "Insgesamt                                           float64\n",
       "Fernheizung (Fernwärme)                             float64\n",
       "Etagenheizung                                       float64\n",
       "Blockheizung                                        float64\n",
       "Zentralheizung                                      float64\n",
       "Einzel-/Mehrraumöfen (auch Nachtspeicherheizung)    float64\n",
       "Keine Heizung im Gebäude oder in den Wohnungen      float64\n",
       "dtype: object"
      ]
     },
     "execution_count": 39,
     "metadata": {},
     "output_type": "execute_result"
    }
   ],
   "source": [
    "HEAT_new.dtypes"
   ]
  },
  {
   "cell_type": "code",
   "execution_count": 40,
   "metadata": {
    "collapsed": false
   },
   "outputs": [
    {
     "data": {
      "text/html": [
       "<div>\n",
       "<table border=\"1\" class=\"dataframe\">\n",
       "  <thead>\n",
       "    <tr style=\"text-align: right;\">\n",
       "      <th></th>\n",
       "      <th>Insgesamt</th>\n",
       "      <th>Fernheizung (Fernwärme)</th>\n",
       "      <th>Etagenheizung</th>\n",
       "      <th>Blockheizung</th>\n",
       "      <th>Zentralheizung</th>\n",
       "      <th>Einzel-/Mehrraumöfen (auch Nachtspeicherheizung)</th>\n",
       "      <th>Keine Heizung im Gebäude oder in den Wohnungen</th>\n",
       "    </tr>\n",
       "  </thead>\n",
       "  <tbody>\n",
       "    <tr>\n",
       "      <th>001002</th>\n",
       "      <td>9</td>\n",
       "      <td>3</td>\n",
       "      <td>NaN</td>\n",
       "      <td>NaN</td>\n",
       "      <td>5</td>\n",
       "      <td>NaN</td>\n",
       "      <td>NaN</td>\n",
       "    </tr>\n",
       "    <tr>\n",
       "      <th>001003</th>\n",
       "      <td>6</td>\n",
       "      <td>3</td>\n",
       "      <td>NaN</td>\n",
       "      <td>NaN</td>\n",
       "      <td>NaN</td>\n",
       "      <td>NaN</td>\n",
       "      <td>NaN</td>\n",
       "    </tr>\n",
       "    <tr>\n",
       "      <th>001004</th>\n",
       "      <td>7</td>\n",
       "      <td>3</td>\n",
       "      <td>NaN</td>\n",
       "      <td>NaN</td>\n",
       "      <td>4</td>\n",
       "      <td>NaN</td>\n",
       "      <td>NaN</td>\n",
       "    </tr>\n",
       "    <tr>\n",
       "      <th>001005</th>\n",
       "      <td>6</td>\n",
       "      <td>4</td>\n",
       "      <td>3</td>\n",
       "      <td>NaN</td>\n",
       "      <td>NaN</td>\n",
       "      <td>NaN</td>\n",
       "      <td>NaN</td>\n",
       "    </tr>\n",
       "    <tr>\n",
       "      <th>001006</th>\n",
       "      <td>15</td>\n",
       "      <td>8</td>\n",
       "      <td>NaN</td>\n",
       "      <td>NaN</td>\n",
       "      <td>6</td>\n",
       "      <td>NaN</td>\n",
       "      <td>NaN</td>\n",
       "    </tr>\n",
       "  </tbody>\n",
       "</table>\n",
       "</div>"
      ],
      "text/plain": [
       "        Insgesamt  Fernheizung (Fernwärme)  Etagenheizung  Blockheizung  \\\n",
       "001002          9                        3            NaN           NaN   \n",
       "001003          6                        3            NaN           NaN   \n",
       "001004          7                        3            NaN           NaN   \n",
       "001005          6                        4              3           NaN   \n",
       "001006         15                        8            NaN           NaN   \n",
       "\n",
       "        Zentralheizung  Einzel-/Mehrraumöfen (auch Nachtspeicherheizung)  \\\n",
       "001002               5                                               NaN   \n",
       "001003             NaN                                               NaN   \n",
       "001004               4                                               NaN   \n",
       "001005             NaN                                               NaN   \n",
       "001006               6                                               NaN   \n",
       "\n",
       "        Keine Heizung im Gebäude oder in den Wohnungen  \n",
       "001002                                             NaN  \n",
       "001003                                             NaN  \n",
       "001004                                             NaN  \n",
       "001005                                             NaN  \n",
       "001006                                             NaN  "
      ]
     },
     "execution_count": 40,
     "metadata": {},
     "output_type": "execute_result"
    }
   ],
   "source": [
    "HEAT_new.head()"
   ]
  },
  {
   "cell_type": "code",
   "execution_count": 41,
   "metadata": {
    "collapsed": false
   },
   "outputs": [
    {
     "data": {
      "text/html": [
       "<div>\n",
       "<table border=\"1\" class=\"dataframe\">\n",
       "  <thead>\n",
       "    <tr style=\"text-align: right;\">\n",
       "      <th></th>\n",
       "      <th>Insgesamt</th>\n",
       "      <th>Fernheizung (Fernwärme)</th>\n",
       "      <th>Etagenheizung</th>\n",
       "      <th>Blockheizung</th>\n",
       "      <th>Zentralheizung</th>\n",
       "      <th>Einzel-/Mehrraumöfen (auch Nachtspeicherheizung)</th>\n",
       "      <th>Keine Heizung im Gebäude oder in den Wohnungen</th>\n",
       "    </tr>\n",
       "  </thead>\n",
       "  <tbody>\n",
       "    <tr>\n",
       "      <th>107011</th>\n",
       "      <td>300</td>\n",
       "      <td>25</td>\n",
       "      <td>34</td>\n",
       "      <td>6</td>\n",
       "      <td>231</td>\n",
       "      <td>4</td>\n",
       "      <td>NaN</td>\n",
       "    </tr>\n",
       "    <tr>\n",
       "      <th>107012</th>\n",
       "      <td>148</td>\n",
       "      <td>24</td>\n",
       "      <td>14</td>\n",
       "      <td>16</td>\n",
       "      <td>90</td>\n",
       "      <td>4</td>\n",
       "      <td>NaN</td>\n",
       "    </tr>\n",
       "    <tr>\n",
       "      <th>107013</th>\n",
       "      <td>215</td>\n",
       "      <td>59</td>\n",
       "      <td>3</td>\n",
       "      <td>27</td>\n",
       "      <td>124</td>\n",
       "      <td>NaN</td>\n",
       "      <td>NaN</td>\n",
       "    </tr>\n",
       "    <tr>\n",
       "      <th>107014</th>\n",
       "      <td>413</td>\n",
       "      <td>108</td>\n",
       "      <td>39</td>\n",
       "      <td>13</td>\n",
       "      <td>242</td>\n",
       "      <td>11</td>\n",
       "      <td>NaN</td>\n",
       "    </tr>\n",
       "    <tr>\n",
       "      <th>107015</th>\n",
       "      <td>517</td>\n",
       "      <td>38</td>\n",
       "      <td>51</td>\n",
       "      <td>10</td>\n",
       "      <td>408</td>\n",
       "      <td>10</td>\n",
       "      <td>NaN</td>\n",
       "    </tr>\n",
       "  </tbody>\n",
       "</table>\n",
       "</div>"
      ],
      "text/plain": [
       "        Insgesamt  Fernheizung (Fernwärme)  Etagenheizung  Blockheizung  \\\n",
       "107011        300                       25             34             6   \n",
       "107012        148                       24             14            16   \n",
       "107013        215                       59              3            27   \n",
       "107014        413                      108             39            13   \n",
       "107015        517                       38             51            10   \n",
       "\n",
       "        Zentralheizung  Einzel-/Mehrraumöfen (auch Nachtspeicherheizung)  \\\n",
       "107011             231                                                 4   \n",
       "107012              90                                                 4   \n",
       "107013             124                                               NaN   \n",
       "107014             242                                                11   \n",
       "107015             408                                                10   \n",
       "\n",
       "        Keine Heizung im Gebäude oder in den Wohnungen  \n",
       "107011                                             NaN  \n",
       "107012                                             NaN  \n",
       "107013                                             NaN  \n",
       "107014                                             NaN  \n",
       "107015                                             NaN  "
      ]
     },
     "execution_count": 41,
     "metadata": {},
     "output_type": "execute_result"
    }
   ],
   "source": [
    "HEAT_new.tail()"
   ]
  },
  {
   "cell_type": "code",
   "execution_count": 42,
   "metadata": {
    "collapsed": true
   },
   "outputs": [],
   "source": [
    "HEAT_new.to_csv(\"HEAT.csv\")"
   ]
  },
  {
   "cell_type": "markdown",
   "metadata": {},
   "source": [
    "#(7) NUTZ"
   ]
  },
  {
   "cell_type": "code",
   "execution_count": 43,
   "metadata": {
    "collapsed": true
   },
   "outputs": [],
   "source": [
    "NUTZ = xls.parse(\n",
    "    6, index_col=[1], na_values=['-','.'],\n",
    "    skiprows=[0,1,2,3,4,5,6],\n",
    "    skip_footer=16\n",
    ")"
   ]
  },
  {
   "cell_type": "code",
   "execution_count": 44,
   "metadata": {
    "collapsed": false
   },
   "outputs": [],
   "source": [
    "NUTZ_new = makeNew(NUTZ, cut=6, col_id=10, col=\"Stat.Geb\")"
   ]
  },
  {
   "cell_type": "code",
   "execution_count": 45,
   "metadata": {
    "collapsed": false
   },
   "outputs": [
    {
     "data": {
      "text/html": [
       "<div>\n",
       "<table border=\"1\" class=\"dataframe\">\n",
       "  <thead>\n",
       "    <tr style=\"text-align: right;\">\n",
       "      <th></th>\n",
       "      <th>Insgesamt</th>\n",
       "      <th>Von Eigentümer/-in bewohnt</th>\n",
       "      <th>Zu Wohnzwecken vermietet (auch mietfrei)</th>\n",
       "      <th>Ferien- und Freizeitwohnung</th>\n",
       "      <th>Leer stehend</th>\n",
       "      <th>Diplomaten-/Streitkräftewohnung</th>\n",
       "    </tr>\n",
       "  </thead>\n",
       "  <tbody>\n",
       "    <tr>\n",
       "      <th>001002</th>\n",
       "      <td>10</td>\n",
       "      <td>NaN</td>\n",
       "      <td>6</td>\n",
       "      <td>NaN</td>\n",
       "      <td>3</td>\n",
       "      <td>NaN</td>\n",
       "    </tr>\n",
       "    <tr>\n",
       "      <th>001003</th>\n",
       "      <td>7</td>\n",
       "      <td>3</td>\n",
       "      <td>3</td>\n",
       "      <td>NaN</td>\n",
       "      <td>NaN</td>\n",
       "      <td>NaN</td>\n",
       "    </tr>\n",
       "    <tr>\n",
       "      <th>001004</th>\n",
       "      <td>32</td>\n",
       "      <td>3</td>\n",
       "      <td>30</td>\n",
       "      <td>NaN</td>\n",
       "      <td>NaN</td>\n",
       "      <td>NaN</td>\n",
       "    </tr>\n",
       "    <tr>\n",
       "      <th>001005</th>\n",
       "      <td>51</td>\n",
       "      <td>NaN</td>\n",
       "      <td>39</td>\n",
       "      <td>NaN</td>\n",
       "      <td>11</td>\n",
       "      <td>NaN</td>\n",
       "    </tr>\n",
       "    <tr>\n",
       "      <th>001006</th>\n",
       "      <td>41</td>\n",
       "      <td>4</td>\n",
       "      <td>30</td>\n",
       "      <td>NaN</td>\n",
       "      <td>7</td>\n",
       "      <td>NaN</td>\n",
       "    </tr>\n",
       "  </tbody>\n",
       "</table>\n",
       "</div>"
      ],
      "text/plain": [
       "        Insgesamt  Von Eigentümer/-in bewohnt  \\\n",
       "001002         10                         NaN   \n",
       "001003          7                           3   \n",
       "001004         32                           3   \n",
       "001005         51                         NaN   \n",
       "001006         41                           4   \n",
       "\n",
       "        Zu Wohnzwecken vermietet (auch mietfrei)  Ferien- und Freizeitwohnung  \\\n",
       "001002                                         6                          NaN   \n",
       "001003                                         3                          NaN   \n",
       "001004                                        30                          NaN   \n",
       "001005                                        39                          NaN   \n",
       "001006                                        30                          NaN   \n",
       "\n",
       "        Leer stehend  Diplomaten-/Streitkräftewohnung  \n",
       "001002             3                              NaN  \n",
       "001003           NaN                              NaN  \n",
       "001004           NaN                              NaN  \n",
       "001005            11                              NaN  \n",
       "001006             7                              NaN  "
      ]
     },
     "execution_count": 45,
     "metadata": {},
     "output_type": "execute_result"
    }
   ],
   "source": [
    "NUTZ_new.head()"
   ]
  },
  {
   "cell_type": "code",
   "execution_count": 46,
   "metadata": {
    "collapsed": false
   },
   "outputs": [
    {
     "data": {
      "text/html": [
       "<div>\n",
       "<table border=\"1\" class=\"dataframe\">\n",
       "  <thead>\n",
       "    <tr style=\"text-align: right;\">\n",
       "      <th></th>\n",
       "      <th>Insgesamt</th>\n",
       "      <th>Von Eigentümer/-in bewohnt</th>\n",
       "      <th>Zu Wohnzwecken vermietet (auch mietfrei)</th>\n",
       "      <th>Ferien- und Freizeitwohnung</th>\n",
       "      <th>Leer stehend</th>\n",
       "      <th>Diplomaten-/Streitkräftewohnung</th>\n",
       "    </tr>\n",
       "  </thead>\n",
       "  <tbody>\n",
       "    <tr>\n",
       "      <th>107011</th>\n",
       "      <td>314</td>\n",
       "      <td>289</td>\n",
       "      <td>23</td>\n",
       "      <td>NaN</td>\n",
       "      <td>3</td>\n",
       "      <td>NaN</td>\n",
       "    </tr>\n",
       "    <tr>\n",
       "      <th>107012</th>\n",
       "      <td>812</td>\n",
       "      <td>64</td>\n",
       "      <td>747</td>\n",
       "      <td>NaN</td>\n",
       "      <td>NaN</td>\n",
       "      <td>NaN</td>\n",
       "    </tr>\n",
       "    <tr>\n",
       "      <th>107013</th>\n",
       "      <td>1153</td>\n",
       "      <td>NaN</td>\n",
       "      <td>1142</td>\n",
       "      <td>NaN</td>\n",
       "      <td>3</td>\n",
       "      <td>NaN</td>\n",
       "    </tr>\n",
       "    <tr>\n",
       "      <th>107014</th>\n",
       "      <td>464</td>\n",
       "      <td>275</td>\n",
       "      <td>189</td>\n",
       "      <td>NaN</td>\n",
       "      <td>NaN</td>\n",
       "      <td>NaN</td>\n",
       "    </tr>\n",
       "    <tr>\n",
       "      <th>107015</th>\n",
       "      <td>586</td>\n",
       "      <td>450</td>\n",
       "      <td>136</td>\n",
       "      <td>NaN</td>\n",
       "      <td>NaN</td>\n",
       "      <td>NaN</td>\n",
       "    </tr>\n",
       "  </tbody>\n",
       "</table>\n",
       "</div>"
      ],
      "text/plain": [
       "        Insgesamt  Von Eigentümer/-in bewohnt  \\\n",
       "107011        314                         289   \n",
       "107012        812                          64   \n",
       "107013       1153                         NaN   \n",
       "107014        464                         275   \n",
       "107015        586                         450   \n",
       "\n",
       "        Zu Wohnzwecken vermietet (auch mietfrei)  Ferien- und Freizeitwohnung  \\\n",
       "107011                                        23                          NaN   \n",
       "107012                                       747                          NaN   \n",
       "107013                                      1142                          NaN   \n",
       "107014                                       189                          NaN   \n",
       "107015                                       136                          NaN   \n",
       "\n",
       "        Leer stehend  Diplomaten-/Streitkräftewohnung  \n",
       "107011             3                              NaN  \n",
       "107012           NaN                              NaN  \n",
       "107013             3                              NaN  \n",
       "107014           NaN                              NaN  \n",
       "107015           NaN                              NaN  "
      ]
     },
     "execution_count": 46,
     "metadata": {},
     "output_type": "execute_result"
    }
   ],
   "source": [
    "NUTZ_new.tail()"
   ]
  },
  {
   "cell_type": "code",
   "execution_count": 47,
   "metadata": {
    "collapsed": true
   },
   "outputs": [],
   "source": [
    "NUTZ_new.to_csv(\"NUTZ.csv\")"
   ]
  },
  {
   "cell_type": "markdown",
   "metadata": {},
   "source": [
    "#(8) SQM"
   ]
  },
  {
   "cell_type": "code",
   "execution_count": 48,
   "metadata": {
    "collapsed": true
   },
   "outputs": [],
   "source": [
    "SQM = xls.parse(\n",
    "    7, index_col=[1], na_values=['-','.'],\n",
    "    skiprows=[0,1,2,3,4,5,6],\n",
    "    skip_footer=26\n",
    ")"
   ]
  },
  {
   "cell_type": "code",
   "execution_count": 49,
   "metadata": {
    "collapsed": false
   },
   "outputs": [],
   "source": [
    "SQM_new = makeNew(SQM, cut=11, col_id=10, col=\"Stat. Geb\")"
   ]
  },
  {
   "cell_type": "code",
   "execution_count": 50,
   "metadata": {
    "collapsed": false
   },
   "outputs": [
    {
     "data": {
      "text/plain": [
       "Insgesamt       float64\n",
       "Unter 40        float64\n",
       "40 - 59         float64\n",
       "60 - 79         float64\n",
       "80 - 99         float64\n",
       "100 - 119       float64\n",
       "120 - 139       float64\n",
       "140 - 159       float64\n",
       "160 - 179       float64\n",
       "180 - 199       float64\n",
       "200 und mehr    float64\n",
       "dtype: object"
      ]
     },
     "execution_count": 50,
     "metadata": {},
     "output_type": "execute_result"
    }
   ],
   "source": [
    "SQM_new.dtypes"
   ]
  },
  {
   "cell_type": "code",
   "execution_count": 51,
   "metadata": {
    "collapsed": false
   },
   "outputs": [
    {
     "data": {
      "text/html": [
       "<div>\n",
       "<table border=\"1\" class=\"dataframe\">\n",
       "  <thead>\n",
       "    <tr style=\"text-align: right;\">\n",
       "      <th></th>\n",
       "      <th>Insgesamt</th>\n",
       "      <th>Unter 40</th>\n",
       "      <th>40 - 59</th>\n",
       "      <th>60 - 79</th>\n",
       "      <th>80 - 99</th>\n",
       "      <th>100 - 119</th>\n",
       "      <th>120 - 139</th>\n",
       "      <th>140 - 159</th>\n",
       "      <th>160 - 179</th>\n",
       "      <th>180 - 199</th>\n",
       "      <th>200 und mehr</th>\n",
       "    </tr>\n",
       "  </thead>\n",
       "  <tbody>\n",
       "    <tr>\n",
       "      <th>001002</th>\n",
       "      <td>10</td>\n",
       "      <td>3</td>\n",
       "      <td>NaN</td>\n",
       "      <td>4</td>\n",
       "      <td>NaN</td>\n",
       "      <td>NaN</td>\n",
       "      <td>NaN</td>\n",
       "      <td>NaN</td>\n",
       "      <td>NaN</td>\n",
       "      <td>NaN</td>\n",
       "      <td>NaN</td>\n",
       "    </tr>\n",
       "    <tr>\n",
       "      <th>001003</th>\n",
       "      <td>7</td>\n",
       "      <td>NaN</td>\n",
       "      <td>NaN</td>\n",
       "      <td>4</td>\n",
       "      <td>NaN</td>\n",
       "      <td>NaN</td>\n",
       "      <td>NaN</td>\n",
       "      <td>NaN</td>\n",
       "      <td>NaN</td>\n",
       "      <td>NaN</td>\n",
       "      <td>NaN</td>\n",
       "    </tr>\n",
       "    <tr>\n",
       "      <th>001004</th>\n",
       "      <td>32</td>\n",
       "      <td>NaN</td>\n",
       "      <td>4</td>\n",
       "      <td>14</td>\n",
       "      <td>6</td>\n",
       "      <td>5</td>\n",
       "      <td>3</td>\n",
       "      <td>NaN</td>\n",
       "      <td>NaN</td>\n",
       "      <td>NaN</td>\n",
       "      <td>NaN</td>\n",
       "    </tr>\n",
       "    <tr>\n",
       "      <th>001005</th>\n",
       "      <td>51</td>\n",
       "      <td>6</td>\n",
       "      <td>14</td>\n",
       "      <td>24</td>\n",
       "      <td>3</td>\n",
       "      <td>4</td>\n",
       "      <td>NaN</td>\n",
       "      <td>NaN</td>\n",
       "      <td>NaN</td>\n",
       "      <td>NaN</td>\n",
       "      <td>NaN</td>\n",
       "    </tr>\n",
       "    <tr>\n",
       "      <th>001006</th>\n",
       "      <td>41</td>\n",
       "      <td>3</td>\n",
       "      <td>10</td>\n",
       "      <td>8</td>\n",
       "      <td>10</td>\n",
       "      <td>4</td>\n",
       "      <td>NaN</td>\n",
       "      <td>3</td>\n",
       "      <td>3</td>\n",
       "      <td>3</td>\n",
       "      <td>NaN</td>\n",
       "    </tr>\n",
       "  </tbody>\n",
       "</table>\n",
       "</div>"
      ],
      "text/plain": [
       "        Insgesamt  Unter 40  40 - 59  60 - 79  80 - 99  100 - 119  120 - 139  \\\n",
       "001002         10         3      NaN        4      NaN        NaN        NaN   \n",
       "001003          7       NaN      NaN        4      NaN        NaN        NaN   \n",
       "001004         32       NaN        4       14        6          5          3   \n",
       "001005         51         6       14       24        3          4        NaN   \n",
       "001006         41         3       10        8       10          4        NaN   \n",
       "\n",
       "        140 - 159  160 - 179  180 - 199  200 und mehr  \n",
       "001002        NaN        NaN        NaN           NaN  \n",
       "001003        NaN        NaN        NaN           NaN  \n",
       "001004        NaN        NaN        NaN           NaN  \n",
       "001005        NaN        NaN        NaN           NaN  \n",
       "001006          3          3          3           NaN  "
      ]
     },
     "execution_count": 51,
     "metadata": {},
     "output_type": "execute_result"
    }
   ],
   "source": [
    "SQM_new.head()"
   ]
  },
  {
   "cell_type": "code",
   "execution_count": 52,
   "metadata": {
    "collapsed": false
   },
   "outputs": [
    {
     "data": {
      "text/html": [
       "<div>\n",
       "<table border=\"1\" class=\"dataframe\">\n",
       "  <thead>\n",
       "    <tr style=\"text-align: right;\">\n",
       "      <th></th>\n",
       "      <th>Insgesamt</th>\n",
       "      <th>Unter 40</th>\n",
       "      <th>40 - 59</th>\n",
       "      <th>60 - 79</th>\n",
       "      <th>80 - 99</th>\n",
       "      <th>100 - 119</th>\n",
       "      <th>120 - 139</th>\n",
       "      <th>140 - 159</th>\n",
       "      <th>160 - 179</th>\n",
       "      <th>180 - 199</th>\n",
       "      <th>200 und mehr</th>\n",
       "    </tr>\n",
       "  </thead>\n",
       "  <tbody>\n",
       "    <tr>\n",
       "      <th>107011</th>\n",
       "      <td>314</td>\n",
       "      <td>3</td>\n",
       "      <td>7</td>\n",
       "      <td>10</td>\n",
       "      <td>46</td>\n",
       "      <td>88</td>\n",
       "      <td>122</td>\n",
       "      <td>22</td>\n",
       "      <td>6</td>\n",
       "      <td>5</td>\n",
       "      <td>6</td>\n",
       "    </tr>\n",
       "    <tr>\n",
       "      <th>107012</th>\n",
       "      <td>812</td>\n",
       "      <td>4</td>\n",
       "      <td>241</td>\n",
       "      <td>309</td>\n",
       "      <td>201</td>\n",
       "      <td>35</td>\n",
       "      <td>13</td>\n",
       "      <td>NaN</td>\n",
       "      <td>NaN</td>\n",
       "      <td>NaN</td>\n",
       "      <td>NaN</td>\n",
       "    </tr>\n",
       "    <tr>\n",
       "      <th>107013</th>\n",
       "      <td>1153</td>\n",
       "      <td>8</td>\n",
       "      <td>264</td>\n",
       "      <td>631</td>\n",
       "      <td>222</td>\n",
       "      <td>20</td>\n",
       "      <td>NaN</td>\n",
       "      <td>NaN</td>\n",
       "      <td>NaN</td>\n",
       "      <td>NaN</td>\n",
       "      <td>NaN</td>\n",
       "    </tr>\n",
       "    <tr>\n",
       "      <th>107014</th>\n",
       "      <td>464</td>\n",
       "      <td>NaN</td>\n",
       "      <td>15</td>\n",
       "      <td>48</td>\n",
       "      <td>115</td>\n",
       "      <td>126</td>\n",
       "      <td>116</td>\n",
       "      <td>30</td>\n",
       "      <td>9</td>\n",
       "      <td>NaN</td>\n",
       "      <td>4</td>\n",
       "    </tr>\n",
       "    <tr>\n",
       "      <th>107015</th>\n",
       "      <td>586</td>\n",
       "      <td>NaN</td>\n",
       "      <td>11</td>\n",
       "      <td>22</td>\n",
       "      <td>112</td>\n",
       "      <td>174</td>\n",
       "      <td>167</td>\n",
       "      <td>61</td>\n",
       "      <td>15</td>\n",
       "      <td>6</td>\n",
       "      <td>18</td>\n",
       "    </tr>\n",
       "  </tbody>\n",
       "</table>\n",
       "</div>"
      ],
      "text/plain": [
       "        Insgesamt  Unter 40  40 - 59  60 - 79  80 - 99  100 - 119  120 - 139  \\\n",
       "107011        314         3        7       10       46         88        122   \n",
       "107012        812         4      241      309      201         35         13   \n",
       "107013       1153         8      264      631      222         20        NaN   \n",
       "107014        464       NaN       15       48      115        126        116   \n",
       "107015        586       NaN       11       22      112        174        167   \n",
       "\n",
       "        140 - 159  160 - 179  180 - 199  200 und mehr  \n",
       "107011         22          6          5             6  \n",
       "107012        NaN        NaN        NaN           NaN  \n",
       "107013        NaN        NaN        NaN           NaN  \n",
       "107014         30          9        NaN             4  \n",
       "107015         61         15          6            18  "
      ]
     },
     "execution_count": 52,
     "metadata": {},
     "output_type": "execute_result"
    }
   ],
   "source": [
    "SQM_new.tail()"
   ]
  },
  {
   "cell_type": "code",
   "execution_count": 53,
   "metadata": {
    "collapsed": true
   },
   "outputs": [],
   "source": [
    "SQM_new.to_csv(\"SQM.csv\")"
   ]
  },
  {
   "cell_type": "markdown",
   "metadata": {},
   "source": [
    "#(9) RAUM"
   ]
  },
  {
   "cell_type": "code",
   "execution_count": 54,
   "metadata": {
    "collapsed": true
   },
   "outputs": [],
   "source": [
    "RAUM = xls.parse(\n",
    "    8, index_col=[1], na_values=['-','.'],\n",
    "    skiprows=[0,1,2,3,4,5,6],\n",
    "    skip_footer=20\n",
    ")"
   ]
  },
  {
   "cell_type": "code",
   "execution_count": 56,
   "metadata": {
    "collapsed": false
   },
   "outputs": [],
   "source": [
    "RAUM_new = makeNew(RAUM, cut=8, col_id=10)"
   ]
  },
  {
   "cell_type": "code",
   "execution_count": 57,
   "metadata": {
    "collapsed": false
   },
   "outputs": [
    {
     "data": {
      "text/plain": [
       "Insgesamt           float64\n",
       "1 Raum              float64\n",
       "2 Räume             float64\n",
       "3 Räume             float64\n",
       "4 Räume             float64\n",
       "5 Räume             float64\n",
       "6 Räume             float64\n",
       "7 und mehr Räume    float64\n",
       "dtype: object"
      ]
     },
     "execution_count": 57,
     "metadata": {},
     "output_type": "execute_result"
    }
   ],
   "source": [
    "RAUM_new.dtypes"
   ]
  },
  {
   "cell_type": "code",
   "execution_count": 58,
   "metadata": {
    "collapsed": false
   },
   "outputs": [
    {
     "data": {
      "text/html": [
       "<div>\n",
       "<table border=\"1\" class=\"dataframe\">\n",
       "  <thead>\n",
       "    <tr style=\"text-align: right;\">\n",
       "      <th></th>\n",
       "      <th>Insgesamt</th>\n",
       "      <th>1 Raum</th>\n",
       "      <th>2 Räume</th>\n",
       "      <th>3 Räume</th>\n",
       "      <th>4 Räume</th>\n",
       "      <th>5 Räume</th>\n",
       "      <th>6 Räume</th>\n",
       "      <th>7 und mehr Räume</th>\n",
       "    </tr>\n",
       "  </thead>\n",
       "  <tbody>\n",
       "    <tr>\n",
       "      <th>001002</th>\n",
       "      <td>10</td>\n",
       "      <td>NaN</td>\n",
       "      <td>3</td>\n",
       "      <td>3</td>\n",
       "      <td>3</td>\n",
       "      <td>NaN</td>\n",
       "      <td>NaN</td>\n",
       "      <td>NaN</td>\n",
       "    </tr>\n",
       "    <tr>\n",
       "      <th>001003</th>\n",
       "      <td>7</td>\n",
       "      <td>NaN</td>\n",
       "      <td>NaN</td>\n",
       "      <td>3</td>\n",
       "      <td>NaN</td>\n",
       "      <td>NaN</td>\n",
       "      <td>3</td>\n",
       "      <td>NaN</td>\n",
       "    </tr>\n",
       "    <tr>\n",
       "      <th>001004</th>\n",
       "      <td>32</td>\n",
       "      <td>5</td>\n",
       "      <td>NaN</td>\n",
       "      <td>9</td>\n",
       "      <td>11</td>\n",
       "      <td>3</td>\n",
       "      <td>5</td>\n",
       "      <td>NaN</td>\n",
       "    </tr>\n",
       "    <tr>\n",
       "      <th>001005</th>\n",
       "      <td>51</td>\n",
       "      <td>4</td>\n",
       "      <td>20</td>\n",
       "      <td>16</td>\n",
       "      <td>10</td>\n",
       "      <td>NaN</td>\n",
       "      <td>NaN</td>\n",
       "      <td>NaN</td>\n",
       "    </tr>\n",
       "    <tr>\n",
       "      <th>001006</th>\n",
       "      <td>41</td>\n",
       "      <td>NaN</td>\n",
       "      <td>3</td>\n",
       "      <td>16</td>\n",
       "      <td>16</td>\n",
       "      <td>3</td>\n",
       "      <td>3</td>\n",
       "      <td>NaN</td>\n",
       "    </tr>\n",
       "  </tbody>\n",
       "</table>\n",
       "</div>"
      ],
      "text/plain": [
       "        Insgesamt  1 Raum  2 Räume  3 Räume  4 Räume  5 Räume  6 Räume  \\\n",
       "001002         10     NaN        3        3        3      NaN      NaN   \n",
       "001003          7     NaN      NaN        3      NaN      NaN        3   \n",
       "001004         32       5      NaN        9       11        3        5   \n",
       "001005         51       4       20       16       10      NaN      NaN   \n",
       "001006         41     NaN        3       16       16        3        3   \n",
       "\n",
       "        7 und mehr Räume  \n",
       "001002               NaN  \n",
       "001003               NaN  \n",
       "001004               NaN  \n",
       "001005               NaN  \n",
       "001006               NaN  "
      ]
     },
     "execution_count": 58,
     "metadata": {},
     "output_type": "execute_result"
    }
   ],
   "source": [
    "RAUM_new.head()"
   ]
  },
  {
   "cell_type": "code",
   "execution_count": 59,
   "metadata": {
    "collapsed": false
   },
   "outputs": [
    {
     "data": {
      "text/html": [
       "<div>\n",
       "<table border=\"1\" class=\"dataframe\">\n",
       "  <thead>\n",
       "    <tr style=\"text-align: right;\">\n",
       "      <th></th>\n",
       "      <th>Insgesamt</th>\n",
       "      <th>1 Raum</th>\n",
       "      <th>2 Räume</th>\n",
       "      <th>3 Räume</th>\n",
       "      <th>4 Räume</th>\n",
       "      <th>5 Räume</th>\n",
       "      <th>6 Räume</th>\n",
       "      <th>7 und mehr Räume</th>\n",
       "    </tr>\n",
       "  </thead>\n",
       "  <tbody>\n",
       "    <tr>\n",
       "      <th>107011</th>\n",
       "      <td>314</td>\n",
       "      <td>3</td>\n",
       "      <td>4</td>\n",
       "      <td>16</td>\n",
       "      <td>46</td>\n",
       "      <td>116</td>\n",
       "      <td>84</td>\n",
       "      <td>46</td>\n",
       "    </tr>\n",
       "    <tr>\n",
       "      <th>107012</th>\n",
       "      <td>812</td>\n",
       "      <td>34</td>\n",
       "      <td>25</td>\n",
       "      <td>249</td>\n",
       "      <td>288</td>\n",
       "      <td>163</td>\n",
       "      <td>49</td>\n",
       "      <td>4</td>\n",
       "    </tr>\n",
       "    <tr>\n",
       "      <th>107013</th>\n",
       "      <td>1153</td>\n",
       "      <td>34</td>\n",
       "      <td>26</td>\n",
       "      <td>398</td>\n",
       "      <td>534</td>\n",
       "      <td>149</td>\n",
       "      <td>10</td>\n",
       "      <td>NaN</td>\n",
       "    </tr>\n",
       "    <tr>\n",
       "      <th>107014</th>\n",
       "      <td>464</td>\n",
       "      <td>NaN</td>\n",
       "      <td>3</td>\n",
       "      <td>17</td>\n",
       "      <td>96</td>\n",
       "      <td>181</td>\n",
       "      <td>115</td>\n",
       "      <td>53</td>\n",
       "    </tr>\n",
       "    <tr>\n",
       "      <th>107015</th>\n",
       "      <td>586</td>\n",
       "      <td>NaN</td>\n",
       "      <td>5</td>\n",
       "      <td>57</td>\n",
       "      <td>102</td>\n",
       "      <td>189</td>\n",
       "      <td>150</td>\n",
       "      <td>83</td>\n",
       "    </tr>\n",
       "  </tbody>\n",
       "</table>\n",
       "</div>"
      ],
      "text/plain": [
       "        Insgesamt  1 Raum  2 Räume  3 Räume  4 Räume  5 Räume  6 Räume  \\\n",
       "107011        314       3        4       16       46      116       84   \n",
       "107012        812      34       25      249      288      163       49   \n",
       "107013       1153      34       26      398      534      149       10   \n",
       "107014        464     NaN        3       17       96      181      115   \n",
       "107015        586     NaN        5       57      102      189      150   \n",
       "\n",
       "        7 und mehr Räume  \n",
       "107011                46  \n",
       "107012                 4  \n",
       "107013               NaN  \n",
       "107014                53  \n",
       "107015                83  "
      ]
     },
     "execution_count": 59,
     "metadata": {},
     "output_type": "execute_result"
    }
   ],
   "source": [
    "RAUM_new.tail()"
   ]
  },
  {
   "cell_type": "code",
   "execution_count": 60,
   "metadata": {
    "collapsed": true
   },
   "outputs": [],
   "source": [
    "RAUM_new.to_csv(\"RAUM.csv\")"
   ]
  }
 ],
 "metadata": {
  "kernelspec": {
   "display_name": "Python 3",
   "language": "python",
   "name": "python3"
  },
  "language_info": {
   "codemirror_mode": {
    "name": "ipython",
    "version": 3
   },
   "file_extension": ".py",
   "mimetype": "text/x-python",
   "name": "python",
   "nbconvert_exporter": "python",
   "pygments_lexer": "ipython3",
   "version": "3.4.3"
  }
 },
 "nbformat": 4,
 "nbformat_minor": 0
}
